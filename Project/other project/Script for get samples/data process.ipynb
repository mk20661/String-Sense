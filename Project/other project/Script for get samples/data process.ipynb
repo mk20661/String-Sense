{
 "cells": [
  {
   "cell_type": "code",
   "execution_count": 1,
   "id": "46d82675",
   "metadata": {},
   "outputs": [],
   "source": [
    "import os\n",
    "import requests\n",
    "import tarfile\n",
    "from tqdm import tqdm\n",
    "import json\n",
    "import shutil"
   ]
  },
  {
   "cell_type": "code",
   "execution_count": null,
   "id": "797e0d66",
   "metadata": {},
   "outputs": [
    {
     "name": "stdout",
     "output_type": "stream",
     "text": [
      "\n",
      "⏬ 正在处理：TRAIN 数据集\n",
      "✅ 已存在：nsynth_data/nsynth-train.jsonwav.tar.gz\n",
      "📦 正在解压：nsynth-train.jsonwav.tar.gz\n"
     ]
    },
    {
     "ename": "KeyboardInterrupt",
     "evalue": "",
     "output_type": "error",
     "traceback": [
      "\u001b[0;31m---------------------------------------------------------------------------\u001b[0m",
      "\u001b[0;31mKeyboardInterrupt\u001b[0m                         Traceback (most recent call last)",
      "Cell \u001b[0;32mIn[4], line 39\u001b[0m\n\u001b[1;32m     37\u001b[0m file_name \u001b[38;5;241m=\u001b[39m os\u001b[38;5;241m.\u001b[39mpath\u001b[38;5;241m.\u001b[39mjoin(save_path, os\u001b[38;5;241m.\u001b[39mpath\u001b[38;5;241m.\u001b[39mbasename(url))\n\u001b[1;32m     38\u001b[0m download_file(url, file_name)\n\u001b[0;32m---> 39\u001b[0m extract_tar_gz(file_name, save_path)\n",
      "Cell \u001b[0;32mIn[4], line 31\u001b[0m, in \u001b[0;36mextract_tar_gz\u001b[0;34m(file_path, extract_to)\u001b[0m\n\u001b[1;32m     29\u001b[0m \u001b[38;5;28mprint\u001b[39m(\u001b[38;5;124mf\u001b[39m\u001b[38;5;124m\"\u001b[39m\u001b[38;5;124m📦 正在解压：\u001b[39m\u001b[38;5;132;01m{\u001b[39;00mos\u001b[38;5;241m.\u001b[39mpath\u001b[38;5;241m.\u001b[39mbasename(file_path)\u001b[38;5;132;01m}\u001b[39;00m\u001b[38;5;124m\"\u001b[39m)\n\u001b[1;32m     30\u001b[0m \u001b[38;5;28;01mwith\u001b[39;00m tarfile\u001b[38;5;241m.\u001b[39mopen(file_path, \u001b[38;5;124m\"\u001b[39m\u001b[38;5;124mr:gz\u001b[39m\u001b[38;5;124m\"\u001b[39m) \u001b[38;5;28;01mas\u001b[39;00m tar:\n\u001b[0;32m---> 31\u001b[0m     tar\u001b[38;5;241m.\u001b[39mextractall(path\u001b[38;5;241m=\u001b[39mextract_to)\n\u001b[1;32m     32\u001b[0m \u001b[38;5;28mprint\u001b[39m(\u001b[38;5;124m\"\u001b[39m\u001b[38;5;124m✅ 解压完成！\u001b[39m\u001b[38;5;124m\"\u001b[39m)\n",
      "File \u001b[0;32m/opt/anaconda3/lib/python3.12/tarfile.py:2269\u001b[0m, in \u001b[0;36mTarFile.extractall\u001b[0;34m(self, path, members, numeric_owner, filter)\u001b[0m\n\u001b[1;32m   2264\u001b[0m     \u001b[38;5;28;01mif\u001b[39;00m tarinfo\u001b[38;5;241m.\u001b[39misdir():\n\u001b[1;32m   2265\u001b[0m         \u001b[38;5;66;03m# For directories, delay setting attributes until later,\u001b[39;00m\n\u001b[1;32m   2266\u001b[0m         \u001b[38;5;66;03m# since permissions can interfere with extraction and\u001b[39;00m\n\u001b[1;32m   2267\u001b[0m         \u001b[38;5;66;03m# extracting contents can reset mtime.\u001b[39;00m\n\u001b[1;32m   2268\u001b[0m         directories\u001b[38;5;241m.\u001b[39mappend(tarinfo)\n\u001b[0;32m-> 2269\u001b[0m     \u001b[38;5;28mself\u001b[39m\u001b[38;5;241m.\u001b[39m_extract_one(tarinfo, path, set_attrs\u001b[38;5;241m=\u001b[39m\u001b[38;5;129;01mnot\u001b[39;00m tarinfo\u001b[38;5;241m.\u001b[39misdir(),\n\u001b[1;32m   2270\u001b[0m                       numeric_owner\u001b[38;5;241m=\u001b[39mnumeric_owner)\n\u001b[1;32m   2272\u001b[0m \u001b[38;5;66;03m# Reverse sort directories.\u001b[39;00m\n\u001b[1;32m   2273\u001b[0m directories\u001b[38;5;241m.\u001b[39msort(key\u001b[38;5;241m=\u001b[39m\u001b[38;5;28;01mlambda\u001b[39;00m a: a\u001b[38;5;241m.\u001b[39mname, reverse\u001b[38;5;241m=\u001b[39m\u001b[38;5;28;01mTrue\u001b[39;00m)\n",
      "File \u001b[0;32m/opt/anaconda3/lib/python3.12/tarfile.py:2332\u001b[0m, in \u001b[0;36mTarFile._extract_one\u001b[0;34m(self, tarinfo, path, set_attrs, numeric_owner)\u001b[0m\n\u001b[1;32m   2329\u001b[0m \u001b[38;5;28mself\u001b[39m\u001b[38;5;241m.\u001b[39m_check(\u001b[38;5;124m\"\u001b[39m\u001b[38;5;124mr\u001b[39m\u001b[38;5;124m\"\u001b[39m)\n\u001b[1;32m   2331\u001b[0m \u001b[38;5;28;01mtry\u001b[39;00m:\n\u001b[0;32m-> 2332\u001b[0m     \u001b[38;5;28mself\u001b[39m\u001b[38;5;241m.\u001b[39m_extract_member(tarinfo, os\u001b[38;5;241m.\u001b[39mpath\u001b[38;5;241m.\u001b[39mjoin(path, tarinfo\u001b[38;5;241m.\u001b[39mname),\n\u001b[1;32m   2333\u001b[0m                          set_attrs\u001b[38;5;241m=\u001b[39mset_attrs,\n\u001b[1;32m   2334\u001b[0m                          numeric_owner\u001b[38;5;241m=\u001b[39mnumeric_owner)\n\u001b[1;32m   2335\u001b[0m \u001b[38;5;28;01mexcept\u001b[39;00m \u001b[38;5;167;01mOSError\u001b[39;00m \u001b[38;5;28;01mas\u001b[39;00m e:\n\u001b[1;32m   2336\u001b[0m     \u001b[38;5;28mself\u001b[39m\u001b[38;5;241m.\u001b[39m_handle_fatal_error(e)\n",
      "File \u001b[0;32m/opt/anaconda3/lib/python3.12/tarfile.py:2415\u001b[0m, in \u001b[0;36mTarFile._extract_member\u001b[0;34m(self, tarinfo, targetpath, set_attrs, numeric_owner)\u001b[0m\n\u001b[1;32m   2412\u001b[0m     \u001b[38;5;28mself\u001b[39m\u001b[38;5;241m.\u001b[39m_dbg(\u001b[38;5;241m1\u001b[39m, tarinfo\u001b[38;5;241m.\u001b[39mname)\n\u001b[1;32m   2414\u001b[0m \u001b[38;5;28;01mif\u001b[39;00m tarinfo\u001b[38;5;241m.\u001b[39misreg():\n\u001b[0;32m-> 2415\u001b[0m     \u001b[38;5;28mself\u001b[39m\u001b[38;5;241m.\u001b[39mmakefile(tarinfo, targetpath)\n\u001b[1;32m   2416\u001b[0m \u001b[38;5;28;01melif\u001b[39;00m tarinfo\u001b[38;5;241m.\u001b[39misdir():\n\u001b[1;32m   2417\u001b[0m     \u001b[38;5;28mself\u001b[39m\u001b[38;5;241m.\u001b[39mmakedir(tarinfo, targetpath)\n",
      "File \u001b[0;32m/opt/anaconda3/lib/python3.12/tarfile.py:2469\u001b[0m, in \u001b[0;36mTarFile.makefile\u001b[0;34m(self, tarinfo, targetpath)\u001b[0m\n\u001b[1;32m   2467\u001b[0m     target\u001b[38;5;241m.\u001b[39mtruncate()\n\u001b[1;32m   2468\u001b[0m \u001b[38;5;28;01melse\u001b[39;00m:\n\u001b[0;32m-> 2469\u001b[0m     copyfileobj(source, target, tarinfo\u001b[38;5;241m.\u001b[39msize, ReadError, bufsize)\n",
      "File \u001b[0;32m/opt/anaconda3/lib/python3.12/tarfile.py:251\u001b[0m, in \u001b[0;36mcopyfileobj\u001b[0;34m(src, dst, length, exception, bufsize)\u001b[0m\n\u001b[1;32m    249\u001b[0m blocks, remainder \u001b[38;5;241m=\u001b[39m \u001b[38;5;28mdivmod\u001b[39m(length, bufsize)\n\u001b[1;32m    250\u001b[0m \u001b[38;5;28;01mfor\u001b[39;00m b \u001b[38;5;129;01min\u001b[39;00m \u001b[38;5;28mrange\u001b[39m(blocks):\n\u001b[0;32m--> 251\u001b[0m     buf \u001b[38;5;241m=\u001b[39m src\u001b[38;5;241m.\u001b[39mread(bufsize)\n\u001b[1;32m    252\u001b[0m     \u001b[38;5;28;01mif\u001b[39;00m \u001b[38;5;28mlen\u001b[39m(buf) \u001b[38;5;241m<\u001b[39m bufsize:\n\u001b[1;32m    253\u001b[0m         \u001b[38;5;28;01mraise\u001b[39;00m exception(\u001b[38;5;124m\"\u001b[39m\u001b[38;5;124munexpected end of data\u001b[39m\u001b[38;5;124m\"\u001b[39m)\n",
      "File \u001b[0;32m/opt/anaconda3/lib/python3.12/gzip.py:324\u001b[0m, in \u001b[0;36mGzipFile.read\u001b[0;34m(self, size)\u001b[0m\n\u001b[1;32m    322\u001b[0m     \u001b[38;5;28;01mimport\u001b[39;00m \u001b[38;5;21;01merrno\u001b[39;00m\n\u001b[1;32m    323\u001b[0m     \u001b[38;5;28;01mraise\u001b[39;00m \u001b[38;5;167;01mOSError\u001b[39;00m(errno\u001b[38;5;241m.\u001b[39mEBADF, \u001b[38;5;124m\"\u001b[39m\u001b[38;5;124mread() on write-only GzipFile object\u001b[39m\u001b[38;5;124m\"\u001b[39m)\n\u001b[0;32m--> 324\u001b[0m \u001b[38;5;28;01mreturn\u001b[39;00m \u001b[38;5;28mself\u001b[39m\u001b[38;5;241m.\u001b[39m_buffer\u001b[38;5;241m.\u001b[39mread(size)\n",
      "File \u001b[0;32m/opt/anaconda3/lib/python3.12/_compression.py:68\u001b[0m, in \u001b[0;36mDecompressReader.readinto\u001b[0;34m(self, b)\u001b[0m\n\u001b[1;32m     66\u001b[0m \u001b[38;5;28;01mdef\u001b[39;00m \u001b[38;5;21mreadinto\u001b[39m(\u001b[38;5;28mself\u001b[39m, b):\n\u001b[1;32m     67\u001b[0m     \u001b[38;5;28;01mwith\u001b[39;00m \u001b[38;5;28mmemoryview\u001b[39m(b) \u001b[38;5;28;01mas\u001b[39;00m view, view\u001b[38;5;241m.\u001b[39mcast(\u001b[38;5;124m\"\u001b[39m\u001b[38;5;124mB\u001b[39m\u001b[38;5;124m\"\u001b[39m) \u001b[38;5;28;01mas\u001b[39;00m byte_view:\n\u001b[0;32m---> 68\u001b[0m         data \u001b[38;5;241m=\u001b[39m \u001b[38;5;28mself\u001b[39m\u001b[38;5;241m.\u001b[39mread(\u001b[38;5;28mlen\u001b[39m(byte_view))\n\u001b[1;32m     69\u001b[0m         byte_view[:\u001b[38;5;28mlen\u001b[39m(data)] \u001b[38;5;241m=\u001b[39m data\n\u001b[1;32m     70\u001b[0m     \u001b[38;5;28;01mreturn\u001b[39;00m \u001b[38;5;28mlen\u001b[39m(data)\n",
      "File \u001b[0;32m/opt/anaconda3/lib/python3.12/gzip.py:537\u001b[0m, in \u001b[0;36m_GzipReader.read\u001b[0;34m(self, size)\u001b[0m\n\u001b[1;32m    535\u001b[0m     uncompress \u001b[38;5;241m=\u001b[39m \u001b[38;5;28mself\u001b[39m\u001b[38;5;241m.\u001b[39m_decompressor\u001b[38;5;241m.\u001b[39mdecompress(buf, size)\n\u001b[1;32m    536\u001b[0m \u001b[38;5;28;01melse\u001b[39;00m:\n\u001b[0;32m--> 537\u001b[0m     uncompress \u001b[38;5;241m=\u001b[39m \u001b[38;5;28mself\u001b[39m\u001b[38;5;241m.\u001b[39m_decompressor\u001b[38;5;241m.\u001b[39mdecompress(\u001b[38;5;124mb\u001b[39m\u001b[38;5;124m\"\u001b[39m\u001b[38;5;124m\"\u001b[39m, size)\n\u001b[1;32m    539\u001b[0m \u001b[38;5;28;01mif\u001b[39;00m \u001b[38;5;28mself\u001b[39m\u001b[38;5;241m.\u001b[39m_decompressor\u001b[38;5;241m.\u001b[39munused_data \u001b[38;5;241m!=\u001b[39m \u001b[38;5;124mb\u001b[39m\u001b[38;5;124m\"\u001b[39m\u001b[38;5;124m\"\u001b[39m:\n\u001b[1;32m    540\u001b[0m     \u001b[38;5;66;03m# Prepend the already read bytes to the fileobj so they can\u001b[39;00m\n\u001b[1;32m    541\u001b[0m     \u001b[38;5;66;03m# be seen by _read_eof() and _read_gzip_header()\u001b[39;00m\n\u001b[1;32m    542\u001b[0m     \u001b[38;5;28mself\u001b[39m\u001b[38;5;241m.\u001b[39m_fp\u001b[38;5;241m.\u001b[39mprepend(\u001b[38;5;28mself\u001b[39m\u001b[38;5;241m.\u001b[39m_decompressor\u001b[38;5;241m.\u001b[39munused_data)\n",
      "\u001b[0;31mKeyboardInterrupt\u001b[0m: "
     ]
    }
   ],
   "source": [
    "\n",
    "save_path = \"nsynth_data\"\n",
    "os.makedirs(save_path, exist_ok=True)\n",
    "\n",
    "datasets = {\n",
    "    \"train\": \"http://download.magenta.tensorflow.org/datasets/nsynth/nsynth-train.jsonwav.tar.gz\",\n",
    "    \"valid\": \"http://download.magenta.tensorflow.org/datasets/nsynth/nsynth-valid.jsonwav.tar.gz\",\n",
    "    \"test\":  \"http://download.magenta.tensorflow.org/datasets/nsynth/nsynth-test.jsonwav.tar.gz\"\n",
    "}\n",
    "\n",
    "\n",
    "def download_file(url, filename):\n",
    "    if os.path.exists(filename):\n",
    "        print(f\"✅ 已存在：{filename}\")\n",
    "        return\n",
    "    response = requests.get(url, stream=True)\n",
    "    total_size = int(response.headers.get('content-length', 0))\n",
    "    block_size = 1024\n",
    "    t = tqdm(total=total_size, unit='iB', unit_scale=True, desc=os.path.basename(filename))\n",
    "    with open(filename, 'wb') as f:\n",
    "        for data in response.iter_content(block_size):\n",
    "            t.update(len(data))\n",
    "            f.write(data)\n",
    "    t.close()\n",
    "\n",
    "\n",
    "def extract_tar_gz(file_path, extract_to):\n",
    "    print(f\"📦 正在解压：{os.path.basename(file_path)}\")\n",
    "    with tarfile.open(file_path, \"r:gz\") as tar:\n",
    "        tar.extractall(path=extract_to)\n",
    "    print(\"✅ 解压完成！\")\n",
    "\n",
    "for name, url in datasets.items():\n",
    "    print(f\"\\n⏬ 正在处理：{name.upper()} 数据集\")\n",
    "    file_name = os.path.join(save_path, os.path.basename(url))\n",
    "    download_file(url, file_name)\n",
    "    extract_tar_gz(file_name, save_path)"
   ]
  },
  {
   "cell_type": "code",
   "execution_count": null,
   "id": "15908f2b",
   "metadata": {},
   "outputs": [
    {
     "name": "stdout",
     "output_type": "stream",
     "text": [
      "\n",
      "📂 正在处理：TRAIN\n"
     ]
    },
    {
     "name": "stderr",
     "output_type": "stream",
     "text": [
      "100%|██████████| 289205/289205 [02:04<00:00, 2322.34it/s]\n"
     ]
    },
    {
     "name": "stdout",
     "output_type": "stream",
     "text": [
      "\n",
      "📂 正在处理：VALID\n"
     ]
    },
    {
     "name": "stderr",
     "output_type": "stream",
     "text": [
      "100%|██████████| 12678/12678 [00:04<00:00, 3065.29it/s]\n"
     ]
    },
    {
     "name": "stdout",
     "output_type": "stream",
     "text": [
      "\n",
      "📂 正在处理：TEST\n"
     ]
    },
    {
     "name": "stderr",
     "output_type": "stream",
     "text": [
      "100%|██████████| 4096/4096 [00:01<00:00, 3038.56it/s]"
     ]
    },
    {
     "name": "stdout",
     "output_type": "stream",
     "text": [
      "\n",
      "✅ 所有音频已按“乐器种类 + 子集类型”完成分类。输出路径： nsynth_data/categorized_by_instrument_split\n"
     ]
    },
    {
     "name": "stderr",
     "output_type": "stream",
     "text": [
      "\n"
     ]
    }
   ],
   "source": [
    "nsynth_root = \"nsynth_data\"\n",
    "splits = {\n",
    "    \"train\": \"nsynth-train\",\n",
    "    \"valid\": \"nsynth-valid\",\n",
    "    \"test\":  \"nsynth-test\"\n",
    "}\n",
    "\n",
    "# 输出目录\n",
    "output_dir = os.path.join(nsynth_root, \"categorized_by_instrument_split\")\n",
    "os.makedirs(output_dir, exist_ok=True)\n",
    "\n",
    "# 遍历 train / valid / test\n",
    "for split_name, split_folder in splits.items():\n",
    "    print(f\"\\n📂 正在处理：{split_name.upper()}\")\n",
    "\n",
    "    json_path = os.path.join(nsynth_root, split_folder, \"examples.json\")\n",
    "    audio_path = os.path.join(nsynth_root, split_folder, \"audio\")\n",
    "\n",
    "    # 读取元数据\n",
    "    with open(json_path, \"r\") as f:\n",
    "        metadata = json.load(f)\n",
    "\n",
    "    # 遍历每个样本\n",
    "    for key, item in tqdm(metadata.items()):\n",
    "        instrument_family = item[\"instrument_family_str\"]\n",
    "        src_file = os.path.join(audio_path, f\"{key}.wav\")\n",
    "\n",
    "        # 目标目录：<output>/<instrument>/<split>/\n",
    "        target_dir = os.path.join(output_dir, instrument_family, split_name)\n",
    "        os.makedirs(target_dir, exist_ok=True)\n",
    "\n",
    "        dst_file = os.path.join(target_dir, f\"{key}.wav\")\n",
    "\n",
    "        # 拷贝\n",
    "        if os.path.exists(src_file):\n",
    "            shutil.copy(src_file, dst_file)\n",
    "\n",
    "print(\"\\n✅ 所有音频已按“乐器种类 + 子集类型”完成分类。输出路径：\", output_dir)"
   ]
  },
  {
   "cell_type": "code",
   "execution_count": null,
   "id": "c823c0f7",
   "metadata": {},
   "outputs": [
    {
     "name": "stdout",
     "output_type": "stream",
     "text": [
      "\n",
      "📂 正在处理数据集：TRAIN\n"
     ]
    },
    {
     "name": "stderr",
     "output_type": "stream",
     "text": [
      "100%|██████████| 289205/289205 [00:19<00:00, 14668.19it/s]\n"
     ]
    },
    {
     "name": "stdout",
     "output_type": "stream",
     "text": [
      "✅ 完成 train：共复制 52145 个 acoustic 音频样本\n",
      "\n",
      "📂 正在处理数据集：VALID\n"
     ]
    },
    {
     "name": "stderr",
     "output_type": "stream",
     "text": [
      "100%|██████████| 12678/12678 [00:01<00:00, 10988.43it/s]\n"
     ]
    },
    {
     "name": "stdout",
     "output_type": "stream",
     "text": [
      "✅ 完成 valid：共复制 3337 个 acoustic 音频样本\n",
      "\n",
      "📂 正在处理数据集：TEST\n"
     ]
    },
    {
     "name": "stderr",
     "output_type": "stream",
     "text": [
      "100%|██████████| 4096/4096 [00:00<00:00, 10967.92it/s]"
     ]
    },
    {
     "name": "stdout",
     "output_type": "stream",
     "text": [
      "✅ 完成 test：共复制 1141 个 acoustic 音频样本\n",
      "\n",
      "🎉 所有 acoustic 类型音频分类完成，保存路径： nsynth_data/categorized_acoustic2\n"
     ]
    },
    {
     "name": "stderr",
     "output_type": "stream",
     "text": [
      "\n"
     ]
    }
   ],
   "source": [
    "nsynth_root = \"nsynth_data\"\n",
    "splits = {\n",
    "    \"train\": \"nsynth-train\",\n",
    "    \"valid\": \"nsynth-valid\",\n",
    "    \"test\": \"nsynth-test\"\n",
    "}\n",
    "\n",
    "# 目标乐器 + 目标来源类型\n",
    "target_instruments = [\"guitar\", \"keyboard\", \"reed\", \"string\"]\n",
    "target_source = \"acoustic\"\n",
    "\n",
    "# 输出目录\n",
    "output_dir = os.path.join(nsynth_root, \"categorized_acoustic2\")\n",
    "os.makedirs(output_dir, exist_ok=True)\n",
    "\n",
    "for split_name, split_folder in splits.items():\n",
    "    print(f\"\\n📂 正在处理数据集：{split_name.upper()}\")\n",
    "    \n",
    "    json_path = os.path.join(nsynth_root, split_folder, \"examples.json\")\n",
    "    audio_path = os.path.join(nsynth_root, split_folder, \"audio\")\n",
    "\n",
    "    # 加载元数据\n",
    "    with open(json_path, \"r\") as f:\n",
    "        metadata = json.load(f)\n",
    "\n",
    "    count = 0\n",
    "    for key, item in tqdm(metadata.items()):\n",
    "        inst = item[\"instrument_family_str\"]\n",
    "        source = item[\"instrument_source_str\"]\n",
    "        \n",
    "        if inst in target_instruments and source == target_source:\n",
    "            src = os.path.join(audio_path, f\"{key}.wav\")\n",
    "            dst_dir = os.path.join(output_dir, inst, split_name)\n",
    "            os.makedirs(dst_dir, exist_ok=True)\n",
    "            dst = os.path.join(dst_dir, f\"{key}.wav\")\n",
    "\n",
    "            if os.path.exists(src):\n",
    "                shutil.copy(src, dst)\n",
    "                count += 1\n",
    "\n",
    "    print(f\"✅ 完成 {split_name}：共复制 {count} 个 {target_source} 音频样本\")\n",
    "\n",
    "print(\"\\n🎉 所有 acoustic 类型音频分类完成，保存路径：\", output_dir)"
   ]
  },
  {
   "cell_type": "code",
   "execution_count": null,
   "id": "a71f2323",
   "metadata": {},
   "outputs": [
    {
     "name": "stdout",
     "output_type": "stream",
     "text": [
      "\n",
      "🎯 正在处理 TRAIN\n",
      "🔍 可用样本数量：50020\n",
      "✅ 选取数量：500\n"
     ]
    },
    {
     "name": "stderr",
     "output_type": "stream",
     "text": [
      "100%|██████████| 500/500 [00:00<00:00, 2625.65it/s]"
     ]
    },
    {
     "name": "stdout",
     "output_type": "stream",
     "text": [
      "\n",
      "🎯 正在处理 VALID\n"
     ]
    },
    {
     "name": "stderr",
     "output_type": "stream",
     "text": [
      "\n"
     ]
    },
    {
     "name": "stdout",
     "output_type": "stream",
     "text": [
      "🔍 可用样本数量：1787\n",
      "✅ 选取数量：200\n"
     ]
    },
    {
     "name": "stderr",
     "output_type": "stream",
     "text": [
      "100%|██████████| 200/200 [00:00<00:00, 2511.58it/s]\n"
     ]
    },
    {
     "name": "stdout",
     "output_type": "stream",
     "text": [
      "\n",
      "🎯 正在处理 TEST\n",
      "🔍 可用样本数量：548\n",
      "✅ 选取数量：200\n"
     ]
    },
    {
     "name": "stderr",
     "output_type": "stream",
     "text": [
      "100%|██████████| 200/200 [00:00<00:00, 3589.37it/s]"
     ]
    },
    {
     "name": "stdout",
     "output_type": "stream",
     "text": [
      "\n",
      "🎉 全部完成！所有文件按 train/valid/test 分类保存。\n"
     ]
    },
    {
     "name": "stderr",
     "output_type": "stream",
     "text": [
      "\n"
     ]
    }
   ],
   "source": [
    "import random\n",
    "nsynth_root = \"nsynth_data\"\n",
    "splits = {\n",
    "    \"train\": \"nsynth-train\",\n",
    "    \"valid\": \"nsynth-valid\",\n",
    "    \"test\":  \"nsynth-test\"\n",
    "}\n",
    "\n",
    "# 已选择过的乐器类型\n",
    "excluded_instruments = [\"guitar\", \"keyboard\", \"reed\", \"string\"]\n",
    "\n",
    "# 每个子集想要随机采样的样本数\n",
    "samples_per_split = {\n",
    "    \"train\": 500,\n",
    "    \"valid\": 200,\n",
    "    \"test\": 200\n",
    "}\n",
    "\n",
    "# ID 映射\n",
    "instrument_family_map = {\n",
    "    0: \"bass\", 1: \"brass\", 2: \"flute\", 3: \"guitar\", 4: \"keyboard\",\n",
    "    5: \"mallet\", 6: \"organ\", 7: \"reed\", 8: \"string\", 9: \"synth_lead\", 10: \"vocal\"\n",
    "}\n",
    "source_map = {0: \"acoustic\", 1: \"electronic\", 2: \"synthetic\"}\n",
    "\n",
    "# 输出目录\n",
    "output_dir = os.path.join(nsynth_root, \"extra_acoustic_random_flat\")\n",
    "os.makedirs(output_dir, exist_ok=True)\n",
    "\n",
    "for split_name, split_folder in splits.items():\n",
    "    print(f\"\\n🎯 正在处理 {split_name.upper()}\")\n",
    "\n",
    "    json_path = os.path.join(nsynth_root, split_folder, \"examples.json\")\n",
    "    audio_path = os.path.join(nsynth_root, split_folder, \"audio\")\n",
    "\n",
    "    # 加载元数据\n",
    "    with open(json_path, \"r\") as f:\n",
    "        metadata = json.load(f)\n",
    "\n",
    "    # 收集所有非目标乐器中的 acoustic 音频\n",
    "    candidates = []\n",
    "    for key, item in metadata.items():\n",
    "        inst = instrument_family_map[item[\"instrument_family\"]]\n",
    "        source = source_map[item[\"instrument_source\"]]\n",
    "        if inst not in excluded_instruments and source == \"acoustic\":\n",
    "            candidates.append(key)\n",
    "\n",
    "    print(f\"🔍 可用样本数量：{len(candidates)}\")\n",
    "\n",
    "    # 随机选取\n",
    "    num_to_sample = min(samples_per_split[split_name], len(candidates))\n",
    "    selected = random.sample(candidates, num_to_sample)\n",
    "    print(f\"✅ 选取数量：{num_to_sample}\")\n",
    "\n",
    "    # 拷贝文件到目标文件夹（只按 split 分类）\n",
    "    split_out_dir = os.path.join(output_dir, split_name)\n",
    "    os.makedirs(split_out_dir, exist_ok=True)\n",
    "\n",
    "    for key in tqdm(selected):\n",
    "        src = os.path.join(audio_path, key + \".wav\")\n",
    "        dst = os.path.join(split_out_dir, key + \".wav\")\n",
    "        shutil.copy(src, dst)\n",
    "\n",
    "print(\"\\n🎉 全部完成！所有文件按 train/valid/test 分类保存。\")"
   ]
  },
  {
   "cell_type": "code",
   "execution_count": null,
   "id": "880c9978",
   "metadata": {},
   "outputs": [
    {
     "name": "stdout",
     "output_type": "stream",
     "text": [
      "📂 正在处理 train 子集...\n",
      "📂 正在处理 valid 子集...\n",
      "📂 正在处理 test 子集...\n",
      "\n",
      "✅ 完成！共处理并裁剪 124972 个音频文件，保存在 'nsynth-split' 文件夹中。\n"
     ]
    }
   ],
   "source": [
    "try:\n",
    "    from pydub import AudioSegment\n",
    "    has_pydub = True\n",
    "except ImportError:\n",
    "    has_pydub = False\n",
    "\n",
    "try:\n",
    "    import soundfile as sf\n",
    "    from scipy.io import wavfile\n",
    "    has_sf = True\n",
    "except ImportError:\n",
    "    has_sf = False\n",
    "\n",
    "# 目标乐器：instrument_family 映射\n",
    "selected_families = {\n",
    "    0: 'bass',\n",
    "    3: 'guitar',\n",
    "    8: 'string',\n",
    "}\n",
    "\n",
    "# 子集路径（你需事先解压好）\n",
    "subsets = {\n",
    "    'train': './nsynth_data/nsynth-train',\n",
    "    'valid': './nsynth_data/nsynth-valid',\n",
    "    'test': './nsynth_data/nsynth-test',\n",
    "}\n",
    "\n",
    "# 输出目录\n",
    "output_root = 'nsynth-split'\n",
    "os.makedirs(output_root, exist_ok=True)\n",
    "\n",
    "# 裁剪参数\n",
    "clip_seconds = 2\n",
    "\n",
    "def crop_wav_pydub(in_path, out_path, seconds=2):\n",
    "    try:\n",
    "        sound = AudioSegment.from_wav(in_path)\n",
    "        trimmed = sound[:seconds * 1000]\n",
    "        trimmed.export(out_path, format='wav')\n",
    "        return True\n",
    "    except Exception as e:\n",
    "        print(f\"[pydub] 裁剪失败: {in_path} → {e}\")\n",
    "        return False\n",
    "\n",
    "def crop_wav_sf(in_path, out_path, seconds=2):\n",
    "    try:\n",
    "        data, samplerate = sf.read(in_path)\n",
    "        clip_len = int(seconds * samplerate)\n",
    "        trimmed = data[:clip_len]\n",
    "        sf.write(out_path, trimmed, samplerate)\n",
    "        return True\n",
    "    except Exception as e:\n",
    "        print(f\"[sf] 裁剪失败: {in_path} → {e}\")\n",
    "        return False\n",
    "\n",
    "def crop_wav(in_path, out_path, seconds=2):\n",
    "    if has_pydub:\n",
    "        success = crop_wav_pydub(in_path, out_path, seconds)\n",
    "        if success:\n",
    "            return True\n",
    "    if has_sf:\n",
    "        return crop_wav_sf(in_path, out_path, seconds)\n",
    "    else:\n",
    "        print(\"❌ 没有可用的裁剪库（pydub 或 soundfile）\")\n",
    "        return False\n",
    "\n",
    "# 主处理逻辑\n",
    "total = 0\n",
    "for subset, path in subsets.items():\n",
    "    json_path = os.path.join(path, 'examples.json')\n",
    "    audio_dir = os.path.join(path, 'audio')\n",
    "\n",
    "    if not os.path.exists(json_path):\n",
    "        print(f\"⚠️ 缺少 metadata 文件: {json_path}\")\n",
    "        continue\n",
    "\n",
    "    with open(json_path, 'r') as f:\n",
    "        metadata = json.load(f)\n",
    "\n",
    "    print(f\"📂 正在处理 {subset} 子集...\")\n",
    "    for filename, info in metadata.items():\n",
    "        family = info['instrument_family']\n",
    "        if family in selected_families:\n",
    "            label = selected_families[family]\n",
    "            src = os.path.join(audio_dir, filename + '.wav')\n",
    "            dst_dir = os.path.join(output_root, subset, label)\n",
    "            dst = os.path.join(dst_dir, filename + '.wav')\n",
    "            os.makedirs(dst_dir, exist_ok=True)\n",
    "\n",
    "            if os.path.exists(src):\n",
    "                if crop_wav(src, dst, seconds=clip_seconds):\n",
    "                    total += 1\n",
    "            else:\n",
    "                print(f\"⚠️ 音频文件不存在: {src}\")\n",
    "\n",
    "print(f\"\\n✅ 完成！共处理并裁剪 {total} 个音频文件，保存在 '{output_root}' 文件夹中。\")"
   ]
  },
  {
   "cell_type": "code",
   "execution_count": null,
   "id": "0c52493d",
   "metadata": {},
   "outputs": [
    {
     "name": "stdout",
     "output_type": "stream",
     "text": [
      "🔍 正在处理 train 数据...\n",
      "🔍 正在处理 valid 数据...\n",
      "🔍 正在处理 test 数据...\n",
      "✅ 所有音频提取与裁剪完成！\n"
     ]
    }
   ],
   "source": [
    "from pydub import AudioSegment\n",
    "# 修改为你实际的 nsynth 数据目录路径\n",
    "base_dir = \"./nsynth_data\"  # 这里指的是包含 nsynth-train、nsynth-valid、nsynth-test 的目录\n",
    "output_dir = \"./output\"\n",
    "\n",
    "target_instruments = {\n",
    "    \"guitar\": \"acoustic\",\n",
    "    \"string\": \"acoustic\",\n",
    "    \"bass\": \"electronic\"\n",
    "}\n",
    "\n",
    "# 数据集的子集对应关系\n",
    "splits = {\n",
    "    \"train\": \"nsynth-train\",\n",
    "    \"valid\": \"nsynth-valid\",\n",
    "    \"test\": \"nsynth-test\"\n",
    "}\n",
    "\n",
    "# # 目标裁剪时长（毫秒）\n",
    "clip_duration_ms = 1500\n",
    "\n",
    "def ensure_dir(path):\n",
    "    if not os.path.exists(path):\n",
    "        os.makedirs(path)\n",
    "\n",
    "for split, folder in splits.items():\n",
    "    print(f\"🔍 正在处理 {split} 数据...\")\n",
    "\n",
    "    json_path = os.path.join(base_dir, folder, \"examples.json\")\n",
    "    audio_path = os.path.join(base_dir, folder, \"audio\")\n",
    "\n",
    "    with open(json_path, \"r\") as f:\n",
    "        metadata = json.load(f)\n",
    "\n",
    "    for key, meta in metadata.items():\n",
    "        family = meta[\"instrument_family_str\"]\n",
    "        source = meta[\"instrument_source_str\"]\n",
    "\n",
    "        # 判断是否符合目标筛选条件\n",
    "        if family in target_instruments and source == target_instruments[family]:\n",
    "            src_audio = os.path.join(audio_path, f\"{key}.wav\")\n",
    "            dst_dir = os.path.join(output_dir, family, split)\n",
    "            ensure_dir(dst_dir)\n",
    "            dst_audio = os.path.join(dst_dir, f\"{key}.wav\")\n",
    "\n",
    "            try:\n",
    "                audio = AudioSegment.from_wav(src_audio)\n",
    "                audio[:clip_duration_ms].export(dst_audio, format=\"wav\")\n",
    "            except Exception as e:\n",
    "                print(f\"⚠️ 无法处理 {key}: {e}\")\n",
    "\n",
    "print(\"✅ 所有音频提取与裁剪完成！\")"
   ]
  },
  {
   "cell_type": "code",
   "execution_count": null,
   "id": "23b191b8",
   "metadata": {},
   "outputs": [
    {
     "name": "stdout",
     "output_type": "stream",
     "text": [
      "\n",
      "🎧 正在提取 train 中所有非 guitar/bass/string 且为 acoustic 的音频...\n",
      "✅ 完成：共提取 0 条样本 -> train/\n",
      "\n",
      "🎧 正在提取 test 中所有非 guitar/bass/string 且为 acoustic 的音频...\n",
      "✅ 完成：共提取 0 条样本 -> test/\n",
      "\n",
      "🚀 所有提取完成，结果保存在 /output/other/train 和 /output/other/test\n"
     ]
    }
   ],
   "source": [
    "import random\n",
    "base_dir = \"./nsynth_data\"  # 这里指的是包含 nsynth-train、nsynth-valid、nsynth-test 的目录\n",
    "output_dir = \"./output\"\n",
    "\n",
    "excluded_instruments = {\"guitar\", \"bass\", \"string\"}\n",
    "target_source = \"acoustic\"\n",
    "clip_duration_ms = 1500\n",
    "\n",
    "def ensure_dir(path):\n",
    "    if not os.path.exists(path):\n",
    "        os.makedirs(path)\n",
    "\n",
    "def extract_all_other_acoustic(split_name, folder_name):\n",
    "    print(f\"\\n🎧 正在提取 {split_name} 中所有非 guitar/bass/string 且为 acoustic 的音频...\")\n",
    "\n",
    "    json_path = os.path.join(base_dir, folder_name, \"examples.json\")\n",
    "    audio_path = os.path.join(base_dir, folder_name, \"audio\")\n",
    "\n",
    "    with open(json_path, \"r\") as f:\n",
    "        metadata = json.load(f)\n",
    "\n",
    "    count = 0\n",
    "    for key, meta in metadata.items():\n",
    "        family = meta[\"instrument_family_str\"]\n",
    "        source = meta[\"instrument_source_str\"]\n",
    "\n",
    "        if family not in excluded_instruments and source == target_source:\n",
    "            src_audio = os.path.join(audio_path, f\"{key}.wav\")\n",
    "            dst_dir = os.path.join(output_dir, \"other\", split_name)\n",
    "            ensure_dir(dst_dir)\n",
    "            dst_audio = os.path.join(dst_dir, f\"{family}_{key}.wav\")\n",
    "\n",
    "            try:\n",
    "                audio = AudioSegment.from_wav(src_audio)\n",
    "                audio[:clip_duration_ms].export(dst_audio, format=\"wav\")\n",
    "                count += 1\n",
    "            except Exception as e:\n",
    "                print(f\"⚠️ 无法处理 {key}: {e}\")\n",
    "\n",
    "    print(f\"✅ 完成：共提取 {count} 条样本 -> {split_name}/\")\n",
    "\n",
    "# 执行提取 train 和 test\n",
    "extract_all_other_acoustic(\"train\", \"nsynth-train\")\n",
    "extract_all_other_acoustic(\"test\", \"nsynth-test\")\n",
    "\n",
    "print(\"\\n🚀 所有提取完成，结果保存在 /output/other/train 和 /output/other/test\")"
   ]
  },
  {
   "cell_type": "code",
   "execution_count": 10,
   "id": "dfb3ec3c",
   "metadata": {},
   "outputs": [
    {
     "name": "stdout",
     "output_type": "stream",
     "text": [
      "\n",
      "📁 正在提取 train 中所有 acoustic + 非 guitar/bass/string 的音频\n",
      "✅ 提取完成：共复制 71195 个音频到 train/\n",
      "\n",
      "📁 正在提取 test 中所有 acoustic + 非 guitar/bass/string 的音频\n",
      "✅ 提取完成：共复制 902 个音频到 test/\n",
      "\n",
      "🎉 所有音频提取完成！保存在 /output1/other/\n"
     ]
    }
   ],
   "source": [
    "import os\n",
    "import json\n",
    "import shutil\n",
    "\n",
    "# NSynth 路径设置\n",
    "base_dir = \"./nsynth_data\"       # 修改为你的 NSynth 路径\n",
    "output_dir = \"./output1\"         # 输出路径\n",
    "\n",
    "excluded_instruments = {\"guitar\", \"bass\", \"string\"}\n",
    "target_source = \"acoustic\"\n",
    "\n",
    "def ensure_dir(path):\n",
    "    if not os.path.exists(path):\n",
    "        os.makedirs(path)\n",
    "\n",
    "def extract_all_other_acoustic(split_name, folder_name):\n",
    "    print(f\"\\n📁 正在提取 {split_name} 中所有 acoustic + 非 guitar/bass/string 的音频\")\n",
    "\n",
    "    json_path = os.path.join(base_dir, folder_name, \"examples.json\")\n",
    "    audio_path = os.path.join(base_dir, folder_name, \"audio\")\n",
    "\n",
    "    with open(json_path, \"r\") as f:\n",
    "        metadata = json.load(f)\n",
    "\n",
    "    count = 0\n",
    "    for key, meta in metadata.items():\n",
    "        family = meta[\"instrument_family_str\"]\n",
    "        source = meta[\"instrument_source_str\"]\n",
    "\n",
    "        if family not in excluded_instruments and source == target_source:\n",
    "            src_audio = os.path.join(audio_path, f\"{key}.wav\")\n",
    "            dst_dir = os.path.join(output_dir, \"other\", split_name, family)\n",
    "            ensure_dir(dst_dir)\n",
    "            dst_audio = os.path.join(dst_dir, f\"{family}_{key}.wav\")\n",
    "\n",
    "            try:\n",
    "                shutil.copy2(src_audio, dst_audio)\n",
    "                count += 1\n",
    "            except Exception as e:\n",
    "                print(f\"⚠️ 复制失败 {key}: {e}\")\n",
    "\n",
    "    print(f\"✅ 提取完成：共复制 {count} 个音频到 {split_name}/\")\n",
    "\n",
    "# 执行提取 train 和 test\n",
    "extract_all_other_acoustic(\"train\", \"nsynth-train\")\n",
    "extract_all_other_acoustic(\"test\", \"nsynth-test\")\n",
    "\n",
    "print(\"\\n🎉 所有音频提取完成！保存在 /output1/other/\")\n"
   ]
  },
  {
   "cell_type": "code",
   "execution_count": 9,
   "id": "a061ba50",
   "metadata": {},
   "outputs": [
    {
     "name": "stdout",
     "output_type": "stream",
     "text": [
      "🔍 正在处理 train 数据...\n",
      "🔍 正在处理 valid 数据...\n",
      "🔍 正在处理 test 数据...\n",
      "✅ 所有音频提取完成（未裁剪）！\n"
     ]
    }
   ],
   "source": [
    "import os\n",
    "import json\n",
    "import shutil\n",
    "\n",
    "# 修改为你实际的 nsynth 数据目录路径\n",
    "base_dir = \"./nsynth_data\"  # 包含 nsynth-train、nsynth-valid、nsynth-test 的目录\n",
    "output_dir = \"./output1\"\n",
    "\n",
    "# 筛选目标乐器与其来源类型\n",
    "target_instruments = {\n",
    "    \"guitar\": \"acoustic\",\n",
    "    \"string\": \"acoustic\",\n",
    "    \"bass\": \"electronic\"\n",
    "}\n",
    "\n",
    "# 数据集对应关系\n",
    "splits = {\n",
    "    \"train\": \"nsynth-train\",\n",
    "    \"valid\": \"nsynth-valid\",\n",
    "    \"test\": \"nsynth-test\"\n",
    "}\n",
    "\n",
    "def ensure_dir(path):\n",
    "    if not os.path.exists(path):\n",
    "        os.makedirs(path)\n",
    "\n",
    "for split, folder in splits.items():\n",
    "    print(f\"🔍 正在处理 {split} 数据...\")\n",
    "\n",
    "    json_path = os.path.join(base_dir, folder, \"examples.json\")\n",
    "    audio_path = os.path.join(base_dir, folder, \"audio\")\n",
    "\n",
    "    with open(json_path, \"r\") as f:\n",
    "        metadata = json.load(f)\n",
    "\n",
    "    for key, meta in metadata.items():\n",
    "        family = meta[\"instrument_family_str\"]\n",
    "        source = meta[\"instrument_source_str\"]\n",
    "\n",
    "        # 判断是否符合筛选条件\n",
    "        if family in target_instruments and source == target_instruments[family]:\n",
    "            src_audio = os.path.join(audio_path, f\"{key}.wav\")\n",
    "            dst_dir = os.path.join(output_dir, family, split)\n",
    "            ensure_dir(dst_dir)\n",
    "            dst_audio = os.path.join(dst_dir, f\"{key}.wav\")\n",
    "\n",
    "            try:\n",
    "                shutil.copy2(src_audio, dst_audio)\n",
    "            except Exception as e:\n",
    "                print(f\"⚠️ 无法复制 {key}: {e}\")\n",
    "\n",
    "print(\"✅ 所有音频提取完成（未裁剪）！\")"
   ]
  }
 ],
 "metadata": {
  "kernelspec": {
   "display_name": "base",
   "language": "python",
   "name": "python3"
  },
  "language_info": {
   "codemirror_mode": {
    "name": "ipython",
    "version": 3
   },
   "file_extension": ".py",
   "mimetype": "text/x-python",
   "name": "python",
   "nbconvert_exporter": "python",
   "pygments_lexer": "ipython3",
   "version": "3.12.2"
  }
 },
 "nbformat": 4,
 "nbformat_minor": 5
}
